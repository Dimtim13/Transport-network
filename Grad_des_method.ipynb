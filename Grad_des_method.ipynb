{
 "cells": [
  {
   "cell_type": "code",
   "execution_count": 14,
   "metadata": {},
   "outputs": [],
   "source": [
    "import pandas as pd\n",
    "import numpy as np\n",
    "import data_handler as dh\n",
    "#import model as md\n",
    "import time\n",
    "import matplotlib.pyplot as plt\n",
    "from matplotlib import rc\n",
    "import pickle"
   ]
  },
  {
   "cell_type": "code",
   "execution_count": 15,
   "metadata": {},
   "outputs": [
    {
     "data": {
      "text/plain": [
       "<module 'model' from '/Users/Dima/GAS/model.py'>"
      ]
     },
     "execution_count": 15,
     "metadata": {},
     "output_type": "execute_result"
    }
   ],
   "source": [
    "import importlib\n",
    "importlib.reload(dh)\n",
    "importlib.reload(md)"
   ]
  },
  {
   "cell_type": "code",
   "execution_count": 16,
   "metadata": {},
   "outputs": [
    {
     "data": {
      "text/plain": [
       "'0.46.0'"
      ]
     },
     "execution_count": 16,
     "metadata": {},
     "output_type": "execute_result"
    }
   ],
   "source": [
    "import numba\n",
    "numba.__version__"
   ]
  },
  {
   "cell_type": "code",
   "execution_count": 17,
   "metadata": {},
   "outputs": [
    {
     "name": "stdout",
     "output_type": "stream",
     "text": [
      "/Users/Dima/anaconda3/bin/python\n",
      "3.7.5 (default, Oct 25 2019, 10:52:18) \n",
      "[Clang 4.0.1 (tags/RELEASE_401/final)]\n",
      "sys.version_info(major=3, minor=7, micro=5, releaselevel='final', serial=0)\n",
      "python 3.7.5\n",
      "numpy 1.17.4\n",
      "pandas 0.25.2\n",
      "graph_tool 2.29 (commit , )\n"
     ]
    }
   ],
   "source": [
    "import sys\n",
    "print(sys.executable)\n",
    "print(sys.version)\n",
    "print(sys.version_info)\n",
    "from platform import python_version\n",
    "print('python', python_version())\n",
    "print('numpy', np.__version__)\n",
    "print('pandas', pd.__version__)\n",
    "import graph_tool\n",
    "print('graph_tool', graph_tool.__version__)"
   ]
  },
  {
   "cell_type": "code",
   "execution_count": 18,
   "metadata": {},
   "outputs": [],
   "source": [
    "import copy\n",
    "import numpy as np\n",
    "import transport_graph as tg\n",
    "\n",
    "import oracles\n",
    "import dual_func_calculator as dfc\n",
    "\n",
    "#import universal_similar_triangles_method as ustm\n",
    "#import universal_gradient_descent_method as ugd\n",
    "#import subgradient_descent_method as sd\n",
    "#import frank_wolfe_method as fwm\n",
    "#import weighted_dual_averages_method as wda\n",
    "#import accelerated_metaalgorithm_method as am"
   ]
  },
  {
   "cell_type": "code",
   "execution_count": 19,
   "metadata": {},
   "outputs": [],
   "source": [
    "import numpy as np\n",
    "from history import History"
   ]
  },
  {
   "cell_type": "markdown",
   "metadata": {},
   "source": [
    "# Модель Бэкмана"
   ]
  },
  {
   "cell_type": "code",
   "execution_count": 20,
   "metadata": {},
   "outputs": [],
   "source": [
    "beckmann_save = 'beckmann_results/'\n",
    "\n",
    "net_name = 'Anaheim_net.tntp'\n",
    "trips_name = 'Anaheim_trips.tntp'\n",
    "\n",
    "mu = 0.25\n",
    "rho = 0.15\n",
    "\n",
    "handler = dh.DataHandler()\n",
    "graph_data = handler.GetGraphData(net_name, columns = ['init_node', 'term_node', 'capacity', 'free_flow_time'])\n",
    "graph_correspondences, total_od_flow = handler.GetGraphCorrespondences(trips_name)\n",
    "\n",
    "\n",
    "\n",
    "table = graph_data['graph_table'].copy()\n",
    "inits = np.unique(table['init_node'][table['init_node_thru'] == False])\n",
    "terms = np.unique(table['term_node'][table['term_node_thru'] == False])\n",
    "through_nodes = np.unique([table['init_node'][table['init_node_thru'] == True], \n",
    "                           table['term_node'][table['term_node_thru'] == True]])\n",
    "\n",
    "nodes = np.concatenate((inits, through_nodes, terms))\n",
    "nodes_inds = list(zip(nodes, np.arange(len(nodes))))\n",
    "init_to_ind = dict(nodes_inds[ : len(inits) + len(through_nodes)])\n",
    "term_to_ind = dict(nodes_inds[len(inits) : ])\n",
    "\n",
    "table['init_node'] = table['init_node'].map(init_to_ind)\n",
    "table['term_node'] = table['term_node'].map(term_to_ind)\n",
    "correspondences = {}\n",
    "for origin, dests in graph_correspondences.items():\n",
    "    dests = copy.deepcopy(dests)\n",
    "    correspondences[init_to_ind[origin]] = {'targets' : list(map(term_to_ind.get , dests['targets'])), \n",
    "                                                             'corrs' : dests['corrs']}\n",
    "    \n",
    "inds_to_nodes = dict(zip(range(len(nodes)), nodes))\n",
    "graph_correspondences = correspondences\n",
    "graph_table = table\n",
    "graph = tg.TransportGraph(graph_table, len(inds_to_nodes), graph_data['links number'])    \n",
    "    \n",
    "    \n",
    "phi_big_oracle = oracles.PhiBigOracle(graph, graph_correspondences)\n",
    "h_oracle = oracles.HOracle(graph.freeflow_times, graph.capacities, \n",
    "                           rho = rho, mu = mu)\n",
    "primal_dual_calculator = dfc.PrimalDualCalculator(phi_big_oracle, h_oracle,\n",
    "                                graph.freeflow_times, graph.capacities,\n",
    "                                rho = rho, mu = mu, base_flows = None)    "
   ]
  },
  {
   "cell_type": "markdown",
   "metadata": {},
   "source": [
    "Начальные установки, объвление функций."
   ]
  },
  {
   "cell_type": "code",
   "execution_count": 21,
   "metadata": {},
   "outputs": [],
   "source": [
    "oracle = phi_big_oracle\n",
    "prox = h_oracle.prox\n",
    "primal_dual_oracle = primal_dual_calculator\n",
    "\n",
    "x_start = graph.freeflow_times\n",
    "L_init = graph.max_path_length**0.5 * total_od_flow\n",
    "max_iter = 1000\n",
    "eps = 1e-5\n",
    "eps_abs = None\n",
    "stop_crit = 'func_gap'\n",
    "verbose_step = 100\n",
    "verbose = False\n",
    "save_history = True"
   ]
  },
  {
   "cell_type": "markdown",
   "metadata": {},
   "source": [
    "Итерационный процесс."
   ]
  },
  {
   "cell_type": "code",
   "execution_count": 22,
   "metadata": {
    "scrolled": false
   },
   "outputs": [
    {
     "name": "stdout",
     "output_type": "stream",
     "text": [
      "Konetz\n"
     ]
    }
   ],
   "source": [
    "tic = time.time()\n",
    "\n",
    "\n",
    "\n",
    "if stop_crit == 'func_gap':\n",
    "    def crit():\n",
    "        F = oracle.func(x) + h_oracle.func(x)\n",
    "        F_pred = oracle.func(x_pred) + h_oracle.func(x_pred)\n",
    "        return np.abs(F - F_pred) < eps\n",
    "else:\n",
    "    raise ValueError(\"stop_crit should be 'func_gap'\")\n",
    "\n",
    "    \n",
    "flows_start = primal_dual_oracle.get_flows(x_start) \n",
    "primal, dual, duality_gap_init, state_msg = primal_dual_oracle(flows_start, x_start)\n",
    "\n",
    "\n",
    "lam = 1e-5\n",
    "x_pred = np.copy(x_start)\n",
    "x = np.copy(x_pred)\n",
    "#L_value = np.linalg.norm(oracle.grad(x_start))\n",
    "L_value = graph.max_path_length**0.5 * total_od_flow\n",
    "A = 0.0\n",
    "\n",
    "\n",
    "t_weighted = x\n",
    "flows_weighted = primal_dual_oracle.get_flows(x)\n",
    "\n",
    "#-------\n",
    "\n",
    "if save_history:\n",
    "    history = History('iter', 'primal_func', 'dual_func', 'dual_gap')\n",
    "    history.update(0, primal, dual, duality_gap_init)\n",
    "if verbose:\n",
    "    print(state_msg)\n",
    "if eps_abs is None:\n",
    "    eps_abs = eps * duality_gap_init\n",
    "\n",
    "#-------\n",
    "\n",
    "success = False    \n",
    "\n",
    "\n",
    "for it_counter in range(1, max_iter):\n",
    "    \n",
    "#    alpha = 1 / L_value\n",
    "    alpha = 1/np.linalg.norm(oracle.grad(x))\n",
    "    x_pred = np.copy(x)\n",
    "    x = x_pred - lam * oracle.grad(x_pred) - lam * h_oracle.grad(x_pred)\n",
    "    lam = lam/2\n",
    "    \n",
    "    \n",
    "    F = oracle.func(x) + h_oracle.func(x)\n",
    "    F_pred = oracle.func(x_pred) + h_oracle.func(x_pred)\n",
    "    \n",
    "#    if it_counter % 1 == 0:\n",
    "#        print(f'iter: {it_counter}        t_min = {np.min(x): .6f}    t_max = {np.max(x): .6f}\\t||x||={np.linalg.norm(x)}\\tF = {np.abs(F - F_pred)}')\n",
    "    \n",
    "    flows = primal_dual_oracle.get_flows(x)\n",
    "    \n",
    "    A += alpha\n",
    "    t_weighted = (t_weighted * (A - alpha) + x * alpha) / A\n",
    "    flows_weighted = (flows_weighted * (A - alpha) + flows * alpha ) / A\n",
    "    \n",
    "#-------    \n",
    "\n",
    "    primal, dual, duality_gap, state_msg = primal_dual_oracle(flows_weighted, t_weighted)\n",
    "    if save_history:\n",
    "        history.update(it_counter, primal, dual, duality_gap)\n",
    "    if verbose and (it_counter % verbose_step == 0):\n",
    "        print('\\nIterations number: {:d}'.format(it_counter))\n",
    "        print(state_msg, flush = True)\n",
    "#-------\n",
    "    if crit():\n",
    "        success = True\n",
    "        print('Konetz')\n",
    "        break\n",
    "        \n",
    "flows = primal_dual_oracle.get_flows(x)\n",
    "        \n",
    "result = {'times': t_weighted, 'flows': flows_weighted,\n",
    "          'iter_num': it_counter,\n",
    "          'res_msg': 'success' if success else 'iterations number exceeded'}\n",
    "\n",
    "#-------\n",
    "\n",
    "if save_history:\n",
    "    result['history'] = history.dict\n",
    "if verbose:\n",
    "    print('\\nResult: ' + result['res_msg'])\n",
    "    print('Total iters: ' + str(it_counter))\n",
    "    print(state_msg)\n",
    "    print('Oracle elapsed time: {:.0f} sec'.format(oracle.time))\n",
    "\n",
    "#-------\n",
    "    \n",
    "    \n",
    "    \n",
    "toc = time.time()"
   ]
  },
  {
   "cell_type": "code",
   "execution_count": 23,
   "metadata": {},
   "outputs": [
    {
     "name": "stdout",
     "output_type": "stream",
     "text": [
      "Elapsed time: 11 sec\n",
      "Time ratio = 1.637338086451928\n",
      "Flow excess = 1.339555555555553\n",
      "\n"
     ]
    }
   ],
   "source": [
    "print('Elapsed time: {:.0f} sec'.format(toc - tic))\n",
    "print('Time ratio =', np.max(result['times'] / graph_data['graph_table']['free_flow_time']))\n",
    "print('Flow excess =', np.max(result['flows'] / graph_data['graph_table']['capacity']) - 1, end = '\\n\\n')"
   ]
  },
  {
   "cell_type": "code",
   "execution_count": 24,
   "metadata": {
    "scrolled": true
   },
   "outputs": [
    {
     "data": {
      "image/png": "[encoded data removed]",
      "text/plain": [
       "<Figure size 720x360 with 1 Axes>"
      ]
     },
     "metadata": {
      "needs_background": "light"
     },
     "output_type": "display_data"
    }
   ],
   "source": [
    "dual_gaps = np.array(result['history']['dual_gap'])\n",
    "iters = np.array(result['history']['iter'])\n",
    "plt.figure(figsize = (10, 5))\n",
    "plt.plot(iters, dual_gaps)\n",
    "plt.title('Gradient_descent_method', fontsize = 16)\n",
    "plt.ylabel('duality gap', fontsize = 12)\n",
    "plt.xlabel('iterations', fontsize = 12)\n",
    "plt.yscale('log')\n",
    "plt.show()"
   ]
  }
 ],
 "metadata": {
  "kernelspec": {
   "display_name": "Python 3",
   "language": "python",
   "name": "python3"
  },
  "language_info": {
   "codemirror_mode": {
    "name": "ipython",
    "version": 3
   },
   "file_extension": ".py",
   "mimetype": "text/x-python",
   "name": "python",
   "nbconvert_exporter": "python",
   "pygments_lexer": "ipython3",
   "version": "3.7.5"
  }
 },
 "nbformat": 4,
 "nbformat_minor": 2
}
